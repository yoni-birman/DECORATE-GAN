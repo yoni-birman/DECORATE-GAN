{
 "cells": [
  {
   "cell_type": "code",
   "execution_count": 100,
   "metadata": {},
   "outputs": [],
   "source": [
    "import numpy as np\n",
    "import pandas as pd\n",
    "import seaborn as sns\n",
    "import matplotlib .pyplot as plt\n",
    "%matplotlib inline\n",
    "import seaborn as sns\n",
    "from sklearn.tree import DecisionTreeClassifier\n",
    "from sklearn.model_selection import train_test_split\n",
    "from sklearn.metrics import classification_report, confusion_matrix"
   ]
  },
  {
   "cell_type": "code",
   "execution_count": 108,
   "metadata": {},
   "outputs": [
    {
     "ename": "TypeError",
     "evalue": "append() takes no keyword arguments",
     "output_type": "error",
     "traceback": [
      "\u001b[1;31m---------------------------------------------------------------------------\u001b[0m",
      "\u001b[1;31mTypeError\u001b[0m                                 Traceback (most recent call last)",
      "\u001b[1;32m<ipython-input-108-7b4ef02b2156>\u001b[0m in \u001b[0;36m<module>\u001b[1;34m\u001b[0m\n\u001b[0;32m      9\u001b[0m \u001b[0mi_max\u001b[0m \u001b[1;33m=\u001b[0m \u001b[1;36m10\u001b[0m \u001b[1;31m# Number of iterations\u001b[0m\u001b[1;33m\u001b[0m\u001b[1;33m\u001b[0m\u001b[0m\n\u001b[0;32m     10\u001b[0m \u001b[1;32mwhile\u001b[0m \u001b[0mi\u001b[0m \u001b[1;33m<\u001b[0m \u001b[0mc_size\u001b[0m \u001b[1;32mand\u001b[0m \u001b[0mtrials\u001b[0m \u001b[1;33m<\u001b[0m \u001b[0mi_max\u001b[0m \u001b[1;33m:\u001b[0m\u001b[1;33m\u001b[0m\u001b[1;33m\u001b[0m\u001b[0m\n\u001b[1;32m---> 11\u001b[1;33m     \u001b[0mr\u001b[0m \u001b[1;33m=\u001b[0m \u001b[0mdata\u001b[0m\u001b[1;33m.\u001b[0m\u001b[0mappend\u001b[0m\u001b[1;33m(\u001b[0m\u001b[0mcreate_lable_new_examples\u001b[0m\u001b[1;33m(\u001b[0m\u001b[0mdata\u001b[0m\u001b[1;33m,\u001b[0m\u001b[0mensamble_list\u001b[0m\u001b[1;33m)\u001b[0m\u001b[1;33m)\u001b[0m\u001b[1;33m\u001b[0m\u001b[1;33m\u001b[0m\u001b[0m\n\u001b[0m\u001b[0;32m     12\u001b[0m     \u001b[0mensamble_list\u001b[0m\u001b[1;33m.\u001b[0m\u001b[0mappend\u001b[0m\u001b[1;33m(\u001b[0m\u001b[0mcreate_classifier\u001b[0m\u001b[1;33m(\u001b[0m\u001b[0mr\u001b[0m\u001b[1;33m)\u001b[0m\u001b[1;33m)\u001b[0m\u001b[1;33m\u001b[0m\u001b[1;33m\u001b[0m\u001b[0m\n\u001b[0;32m     13\u001b[0m     \u001b[0mensemble_error_r\u001b[0m \u001b[1;33m=\u001b[0m \u001b[0mcompute_ensemble_error\u001b[0m\u001b[1;33m(\u001b[0m\u001b[0mdata\u001b[0m\u001b[1;33m,\u001b[0m\u001b[0mensamble_list\u001b[0m\u001b[1;33m[\u001b[0m\u001b[1;33m-\u001b[0m\u001b[1;36m1\u001b[0m\u001b[1;33m]\u001b[0m\u001b[1;33m)\u001b[0m\u001b[1;33m\u001b[0m\u001b[1;33m\u001b[0m\u001b[0m\n",
      "\u001b[1;32m<ipython-input-105-3f8507e938c0>\u001b[0m in \u001b[0;36mcreate_lable_new_examples\u001b[1;34m(data, ensamble_list)\u001b[0m\n\u001b[0;32m      5\u001b[0m     \u001b[1;32mfor\u001b[0m \u001b[0mi\u001b[0m\u001b[1;33m,\u001b[0m\u001b[0mmodel\u001b[0m \u001b[1;32min\u001b[0m \u001b[0menumerate\u001b[0m\u001b[1;33m(\u001b[0m\u001b[0mensamble_list\u001b[0m\u001b[1;33m)\u001b[0m\u001b[1;33m:\u001b[0m\u001b[1;33m\u001b[0m\u001b[1;33m\u001b[0m\u001b[0m\n\u001b[0;32m      6\u001b[0m         \u001b[0mprobability\u001b[0m \u001b[1;33m=\u001b[0m \u001b[0mensamble_list\u001b[0m\u001b[1;33m[\u001b[0m\u001b[0mi\u001b[0m\u001b[1;33m]\u001b[0m\u001b[1;33m.\u001b[0m\u001b[0mpredict_proba\u001b[0m\u001b[1;33m(\u001b[0m\u001b[0mr_examples\u001b[0m\u001b[1;33m.\u001b[0m\u001b[0miloc\u001b[0m\u001b[1;33m[\u001b[0m\u001b[1;33m:\u001b[0m\u001b[1;33m,\u001b[0m\u001b[1;33m:\u001b[0m\u001b[1;33m-\u001b[0m\u001b[1;36m1\u001b[0m\u001b[1;33m]\u001b[0m\u001b[1;33m)\u001b[0m\u001b[1;33m.\u001b[0m\u001b[0mtolist\u001b[0m\u001b[1;33m(\u001b[0m\u001b[1;33m)\u001b[0m\u001b[1;33m\u001b[0m\u001b[1;33m\u001b[0m\u001b[0m\n\u001b[1;32m----> 7\u001b[1;33m         \u001b[0mprobabilities\u001b[0m\u001b[1;33m.\u001b[0m\u001b[0mappend\u001b[0m\u001b[1;33m(\u001b[0m\u001b[0mprobability\u001b[0m\u001b[1;33m,\u001b[0m \u001b[0maxis\u001b[0m \u001b[1;33m=\u001b[0m \u001b[1;36m1\u001b[0m\u001b[1;33m)\u001b[0m\u001b[1;33m\u001b[0m\u001b[1;33m\u001b[0m\u001b[0m\n\u001b[0m\u001b[0;32m      8\u001b[0m     \u001b[0mpredictions\u001b[0m \u001b[1;33m=\u001b[0m \u001b[0mpd\u001b[0m\u001b[1;33m.\u001b[0m\u001b[0mDataFrame\u001b[0m\u001b[1;33m(\u001b[0m\u001b[0mpd\u001b[0m\u001b[1;33m.\u001b[0m\u001b[0mDataFrame\u001b[0m\u001b[1;33m(\u001b[0m\u001b[0mpredictions_list\u001b[0m\u001b[1;33m)\u001b[0m\u001b[1;33m.\u001b[0m\u001b[0mT\u001b[0m\u001b[1;33m.\u001b[0m\u001b[0mapply\u001b[0m\u001b[1;33m(\u001b[0m\u001b[1;32mlambda\u001b[0m \u001b[0mx\u001b[0m\u001b[1;33m:\u001b[0m \u001b[0mx\u001b[0m\u001b[1;33m.\u001b[0m\u001b[0mvalue_counts\u001b[0m\u001b[1;33m(\u001b[0m\u001b[1;33m)\u001b[0m\u001b[1;33m,\u001b[0m \u001b[0maxis\u001b[0m \u001b[1;33m=\u001b[0m \u001b[1;36m1\u001b[0m\u001b[1;33m)\u001b[0m\u001b[1;33m.\u001b[0m\u001b[0midxmin\u001b[0m\u001b[1;33m(\u001b[0m\u001b[0maxis\u001b[0m\u001b[1;33m=\u001b[0m\u001b[1;36m1\u001b[0m\u001b[1;33m)\u001b[0m\u001b[1;33m)\u001b[0m\u001b[1;33m\u001b[0m\u001b[1;33m\u001b[0m\u001b[0m\n\u001b[0;32m      9\u001b[0m     \u001b[0mr_examples\u001b[0m\u001b[1;33m.\u001b[0m\u001b[0miloc\u001b[0m\u001b[1;33m[\u001b[0m\u001b[1;33m:\u001b[0m\u001b[1;33m,\u001b[0m\u001b[1;33m-\u001b[0m\u001b[1;36m1\u001b[0m\u001b[1;33m:\u001b[0m\u001b[1;33m]\u001b[0m \u001b[1;33m=\u001b[0m \u001b[0mpredictions\u001b[0m\u001b[1;33m\u001b[0m\u001b[1;33m\u001b[0m\u001b[0m\n",
      "\u001b[1;31mTypeError\u001b[0m: append() takes no keyword arguments"
     ]
    }
   ],
   "source": [
    "# Main\n",
    "i = 1\n",
    "trials = 1\n",
    "data = extract_features()\n",
    "ensamble_list = []\n",
    "ensamble_list.append(create_classifier(data))\n",
    "ensemble_error = compute_ensemble_error(data,ensamble_list) # Firts enbamble error\n",
    "c_size = 5 # Number of classifiers in the ensamble\n",
    "i_max = 10 # Number of iterations\n",
    "while i < c_size and trials < i_max :\n",
    "    r = data.append(create_lable_new_examples(data,ensamble_list))\n",
    "    ensamble_list.append(create_classifier(r))\n",
    "    ensemble_error_r = compute_ensemble_error(data,ensamble_list[-1])\n",
    "    if ensemble_error_r < ensemble_error:\n",
    "        i = i + 1\n",
    "        ensemble_error = ensemble_error_r \n",
    "    else:\n",
    "        del ensemble_error[-1]\n",
    "    trials = trials + 1\n"
   ]
  },
  {
   "cell_type": "code",
   "execution_count": 101,
   "metadata": {},
   "outputs": [],
   "source": [
    "def extract_features():\n",
    "    file_names=['Credit Approval'] # will need to be removed\n",
    "    for i in file_names:\n",
    "        file_directory = 'Datasets/'+i+'.csv'\n",
    "        data = pd.read_csv(file_directory)\n",
    "        data = data.replace(['?',' '], np.nan) # replace all empty values to np.nan\n",
    "        data = data.dropna(axis=0,how='any') # remove all rows with any np.nan\n",
    "    for i in data.columns:\n",
    "        if data[i].dtype == object:\n",
    "            data[i] = pd.factorize(data[i])[0]\n",
    "    return data"
   ]
  },
  {
   "cell_type": "code",
   "execution_count": 102,
   "metadata": {},
   "outputs": [],
   "source": [
    "def create_classifier(data): # initialize with the Credit Approval data set. later, no such data sets (combinations of categorical \n",
    "    # and numeric values) will be used\n",
    "    x = data.iloc[:, :-1]\n",
    "    y = data.iloc[:, -1:]\n",
    "    x_train, x_test, y_train, y_test = train_test_split(x,y,test_size=0.33,random_state=101)\n",
    "    dtree = DecisionTreeClassifier()\n",
    "    dtree.fit(x_train,y_train)\n",
    "    predictions = dtree.predict(x_test)\n",
    "    return (dtree)"
   ]
  },
  {
   "cell_type": "code",
   "execution_count": 103,
   "metadata": {},
   "outputs": [],
   "source": [
    "# Compute C* and epsilon\n",
    "def compute_ensemble_error(data,ensamble_list):\n",
    "    x = data.iloc[:, :-1]\n",
    "    y = data.iloc[:, -1:]\n",
    "    x_train, x_test, y_train, y_test = train_test_split(x,y,test_size=0.33,random_state=101)\n",
    "    #import pdb; pdb.set_trace()\n",
    "    comulative_error = 0 \n",
    "    predictions_list = []\n",
    "    for dtree in ensamble_list: # generate list if all classifiers classifications\n",
    "        predictions_list.append(dtree.predict(x_test))\n",
    "    c_star =pd.DataFrame(pd.DataFrame(predictions_list).T.apply(lambda x: x.value_counts(), axis = 1).idxmax(axis=1))\n",
    "    #import pdb; pdb.set_trace()\n",
    "    ensamble_error = confusion_matrix(y_test,c_star)\n",
    "    return (ensamble_error)"
   ]
  },
  {
   "cell_type": "code",
   "execution_count": 104,
   "metadata": {},
   "outputs": [],
   "source": [
    "def create_training_examples(data):\n",
    "    mean = data.mean()\n",
    "    std = data.std()\n",
    "    r = 10\n",
    "    dic = dict()\n",
    "    for i,col in enumerate(data.columns):\n",
    "        dic[col] = np.random.normal(mean[i],std[i],r)\n",
    "    data.append(pd.DataFrame(dic), ignore_index = True)\n",
    "    return data.iloc[-r:,:]"
   ]
  },
  {
   "cell_type": "code",
   "execution_count": 105,
   "metadata": {},
   "outputs": [],
   "source": [
    "def create_lable_new_examples(data,ensamble_list):\n",
    "    r_examples = create_training_examples(data)\n",
    "    probabilities =[]\n",
    "    # lable the examples \n",
    "    for i,model in enumerate(ensamble_list):\n",
    "        probability = ensamble_list[i].predict_proba(r_examples.iloc[:,:-1]).tolist()\n",
    "        probabilities.append(probability, axis = 1)\n",
    "    predictions = pd.DataFrame(pd.DataFrame(predictions_list).T.apply(lambda x: x.value_counts(), axis = 1).idxmin(axis=1))\n",
    "    r_examples.iloc[:,-1:] = predictions\n",
    "    return (r_examples)"
   ]
  },
  {
   "cell_type": "code",
   "execution_count": null,
   "metadata": {},
   "outputs": [],
   "source": []
  }
 ],
 "metadata": {
  "kernelspec": {
   "display_name": "Python 3",
   "language": "python",
   "name": "python3"
  },
  "language_info": {
   "codemirror_mode": {
    "name": "ipython",
    "version": 3
   },
   "file_extension": ".py",
   "mimetype": "text/x-python",
   "name": "python",
   "nbconvert_exporter": "python",
   "pygments_lexer": "ipython3",
   "version": "3.7.1"
  }
 },
 "nbformat": 4,
 "nbformat_minor": 2
}
