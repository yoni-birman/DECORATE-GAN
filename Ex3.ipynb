{
 "cells": [
  {
   "cell_type": "code",
   "execution_count": 141,
   "metadata": {},
   "outputs": [],
   "source": [
    "import numpy as np\n",
    "import pandas as pd\n",
    "import seaborn as sns\n",
    "import matplotlib .pyplot as plt\n",
    "%matplotlib inline\n",
    "import seaborn as sns\n",
    "from sklearn.tree import DecisionTreeClassifier\n",
    "from sklearn.model_selection import train_test_split\n",
    "from sklearn.metrics import classification_report, confusion_matrix"
   ]
  },
  {
   "cell_type": "code",
   "execution_count": 142,
   "metadata": {},
   "outputs": [
    {
     "ename": "TypeError",
     "evalue": "cannot do slice indexing on <class 'pandas.core.indexes.numeric.Int64Index'> with these indexers [      A1     A2      A3   A4   A5    A6   A7      A8   A9  A10   A11  A12  \\\n0   -0.0   -0.0  -0.000 -0.0 -0.0  -0.0 -0.0  -1.250 -0.0 -0.0  -1.0 -0.0   \n1   -1.0   -1.0  -4.460 -0.0 -0.0  -1.0 -1.0  -3.040 -0.0 -0.0  -6.0 -0.0   \n2   -1.0   -2.0  -0.500 -0.0 -0.0  -1.0 -1.0  -1.500 -0.0 -1.0  -0.0 -0.0   \n3   -0.0   -3.0  -1.540 -0.0 -0.0  -0.0 -0.0  -3.750 -0.0 -0.0  -5.0 -1.0   \n4   -0.0   -4.0  -5.625 -0.0 -0.0  -0.0 -0.0  -1.710 -0.0 -1.0  -0.0 -0.0   \n5   -0.0   -5.0  -4.000 -0.0 -0.0  -2.0 -0.0  -2.500 -0.0 -1.0  -0.0 -1.0   \n6   -0.0   -6.0  -1.040 -0.0 -0.0  -3.0 -1.0  -6.500 -0.0 -1.0  -0.0 -1.0   \n7   -1.0   -7.0 -11.585 -0.0 -0.0  -4.0 -0.0  -0.040 -0.0 -1.0  -0.0 -0.0   \n8   -0.0   -8.0  -0.500 -1.0 -1.0  -5.0 -1.0  -3.960 -0.0 -1.0  -0.0 -0.0   \n9   -0.0   -9.0  -4.915 -1.0 -1.0  -0.0 -0.0  -3.165 -0.0 -1.0  -0.0 -1.0   \n10  -0.0  -10.0  -0.830 -0.0 -0.0  -6.0 -1.0  -2.165 -1.0 -1.0  -0.0 -1.0   \n11  -0.0  -11.0  -1.835 -0.0 -0.0  -6.0 -1.0  -4.335 -0.0 -1.0  -0.0 -0.0   \n12  -1.0  -12.0  -6.000 -0.0 -0.0  -5.0 -0.0  -1.000 -0.0 -1.0  -0.0 -1.0   \n13  -0.0  -13.0  -6.040 -0.0 -0.0  -5.0 -0.0  -0.040 -1.0 -1.0  -0.0 -0.0   \n14  -1.0  -14.0 -10.500 -0.0 -0.0  -1.0 -0.0  -5.000 -0.0 -0.0  -7.0 -1.0   \n15  -0.0  -15.0  -4.415 -1.0 -1.0  -5.0 -0.0  -0.250 -0.0 -0.0 -10.0 -1.0   \n16  -0.0  -16.0  -0.875 -0.0 -0.0  -2.0 -0.0  -0.960 -0.0 -0.0  -3.0 -1.0   \n17  -1.0  -17.0  -5.875 -0.0 -0.0  -1.0 -0.0  -3.170 -0.0 -0.0 -10.0 -0.0   \n18  -0.0  -18.0  -0.250 -0.0 -0.0  -7.0 -1.0  -0.665 -0.0 -1.0  -0.0 -1.0   \n19  -1.0  -19.0  -8.585 -0.0 -0.0  -4.0 -1.0  -0.750 -0.0 -0.0  -7.0 -0.0   \n20  -0.0  -20.0 -11.250 -0.0 -0.0  -6.0 -0.0  -2.500 -0.0 -0.0 -17.0 -0.0   \n21  -0.0  -17.0  -1.000 -0.0 -0.0  -6.0 -0.0  -0.835 -0.0 -1.0  -0.0 -0.0   \n22  -1.0  -21.0  -8.000 -0.0 -0.0  -6.0 -0.0  -7.875 -0.0 -0.0  -6.0 -1.0   \n23  -1.0  -22.0 -14.500 -0.0 -0.0  -8.0 -1.0  -3.085 -0.0 -0.0  -1.0 -0.0   \n24  -1.0  -23.0  -6.500 -0.0 -0.0  -1.0 -0.0  -0.500 -0.0 -0.0  -3.0 -1.0   \n25  -1.0  -24.0  -0.585 -0.0 -0.0  -6.0 -1.0  -1.500 -0.0 -0.0  -2.0 -0.0   \n26  -1.0  -25.0 -13.000 -0.0 -0.0  -9.0 -2.0  -5.165 -0.0 -0.0  -9.0 -1.0   \n27  -0.0  -26.0 -18.500 -0.0 -0.0  -7.0 -2.0 -15.000 -0.0 -0.0 -17.0 -1.0   \n28  -0.0  -27.0  -8.500 -0.0 -0.0 -10.0 -1.0  -7.000 -0.0 -0.0  -3.0 -0.0   \n29  -0.0  -28.0  -1.040 -0.0 -0.0  -0.0 -0.0  -5.000 -0.0 -0.0  -6.0 -1.0   \n..   ...    ...     ...  ...  ...   ...  ...     ...  ...  ...   ...  ...   \n669 -0.0 -259.0  -2.040 -1.0 -1.0 -12.0 -3.0  -1.500 -1.0 -1.0  -0.0 -0.0   \n670 -0.0 -336.0  -5.835 -0.0 -0.0  -0.0 -0.0  -5.500 -1.0 -1.0  -0.0 -0.0   \n671 -0.0 -337.0 -12.835 -0.0 -0.0  -4.0 -0.0  -0.500 -1.0 -1.0  -0.0 -0.0   \n672 -1.0 -338.0  -0.835 -0.0 -0.0 -11.0 -0.0  -0.500 -1.0 -1.0  -0.0 -1.0   \n674 -1.0 -128.0  -2.500 -0.0 -0.0  -9.0 -1.0  -0.210 -1.0 -1.0  -0.0 -0.0   \n675 -1.0 -296.0  -1.040 -0.0 -0.0 -11.0 -0.0  -0.665 -1.0 -1.0  -0.0 -0.0   \n676 -1.0 -264.0 -10.665 -0.0 -0.0  -1.0 -1.0  -0.085 -1.0 -0.0 -12.0 -1.0   \n677 -0.0  -65.0  -7.250 -0.0 -0.0  -2.0 -0.0  -0.040 -1.0 -0.0  -1.0 -0.0   \n678 -1.0 -334.0 -10.210 -0.0 -0.0 -12.0 -3.0  -0.000 -1.0 -1.0  -0.0 -0.0   \n679 -1.0 -322.0  -1.250 -0.0 -0.0  -6.0 -0.0  -0.000 -1.0 -1.0  -0.0 -0.0   \n680 -0.0 -232.0  -0.290 -0.0 -0.0  -5.0 -0.0  -0.290 -1.0 -1.0  -0.0 -0.0   \n681 -0.0   -3.0  -1.000 -1.0 -1.0  -7.0 -1.0  -3.000 -1.0 -1.0  -0.0 -0.0   \n682 -0.0 -192.0  -3.290 -0.0 -0.0  -9.0 -0.0  -0.335 -1.0 -1.0  -0.0 -1.0   \n683 -0.0 -339.0  -0.750 -1.0 -1.0  -7.0 -0.0  -0.585 -1.0 -1.0  -0.0 -0.0   \n684 -0.0 -151.0  -3.290 -0.0 -0.0  -2.0 -0.0  -3.500 -1.0 -1.0  -0.0 -1.0   \n685 -0.0 -274.0 -10.085 -1.0 -1.0 -10.0 -1.0  -1.250 -1.0 -1.0  -0.0 -0.0   \n686 -1.0 -142.0  -0.750 -0.0 -0.0  -6.0 -0.0  -2.000 -1.0 -0.0  -2.0 -1.0   \n687 -1.0 -221.0 -13.500 -1.0 -1.0 -12.0 -3.0  -2.000 -1.0 -0.0  -1.0 -1.0   \n688 -0.0 -334.0  -0.205 -0.0 -0.0 -11.0 -0.0  -0.040 -1.0 -1.0  -0.0 -0.0   \n689 -0.0 -256.0  -3.375 -0.0 -0.0  -6.0 -1.0  -8.290 -1.0 -1.0  -0.0 -1.0   \n680 -0.0 -232.0  -0.290 -0.0 -0.0  -5.0 -0.0  -0.290 -1.0 -1.0  -0.0 -0.0   \n681 -0.0   -3.0  -1.000 -1.0 -1.0  -7.0 -1.0  -3.000 -1.0 -1.0  -0.0 -0.0   \n682 -0.0 -192.0  -3.290 -0.0 -0.0  -9.0 -0.0  -0.335 -1.0 -1.0  -0.0 -1.0   \n683 -0.0 -339.0  -0.750 -1.0 -1.0  -7.0 -0.0  -0.585 -1.0 -1.0  -0.0 -0.0   \n684 -0.0 -151.0  -3.290 -0.0 -0.0  -2.0 -0.0  -3.500 -1.0 -1.0  -0.0 -1.0   \n685 -0.0 -274.0 -10.085 -1.0 -1.0 -10.0 -1.0  -1.250 -1.0 -1.0  -0.0 -0.0   \n686 -1.0 -142.0  -0.750 -0.0 -0.0  -6.0 -0.0  -2.000 -1.0 -0.0  -2.0 -1.0   \n687 -1.0 -221.0 -13.500 -1.0 -1.0 -12.0 -3.0  -2.000 -1.0 -0.0  -1.0 -1.0   \n688 -0.0 -334.0  -0.205 -0.0 -0.0 -11.0 -0.0  -0.040 -1.0 -1.0  -0.0 -0.0   \n689 -0.0 -256.0  -3.375 -0.0 -0.0  -6.0 -1.0  -8.290 -1.0 -1.0  -0.0 -1.0   \n\n     A13    A14      A15  A16  \n0   -0.0   -0.0     -0.0 -0.0  \n1   -0.0   -1.0   -560.0 -0.0  \n2   -0.0   -2.0   -824.0 -0.0  \n3   -0.0   -3.0     -3.0 -0.0  \n4   -1.0   -4.0     -0.0 -0.0  \n5   -0.0   -5.0     -0.0 -0.0  \n6   -0.0   -6.0 -31285.0 -0.0  \n7   -0.0   -7.0  -1349.0 -0.0  \n8   -0.0   -8.0   -314.0 -0.0  \n9   -0.0   -9.0  -1442.0 -0.0  \n10  -0.0  -10.0     -0.0 -0.0  \n11  -0.0  -11.0   -200.0 -0.0  \n12  -0.0  -12.0     -0.0 -0.0  \n13  -0.0  -12.0  -2690.0 -0.0  \n14  -0.0  -12.0     -0.0 -0.0  \n15  -0.0  -13.0     -0.0 -0.0  \n16  -0.0  -14.0     -0.0 -0.0  \n17  -0.0   -4.0   -245.0 -0.0  \n18  -0.0  -12.0     -0.0 -0.0  \n19  -0.0  -15.0     -0.0 -0.0  \n20  -0.0  -16.0  -1208.0 -0.0  \n21  -1.0  -17.0     -0.0 -0.0  \n22  -0.0  -12.0  -1260.0 -0.0  \n23  -0.0   -4.0    -11.0 -0.0  \n24  -0.0  -18.0     -0.0 -0.0  \n25  -0.0   -3.0     -0.0 -0.0  \n26  -0.0  -12.0     -0.0 -0.0  \n27  -0.0  -12.0     -0.0 -0.0  \n28  -0.0  -12.0     -0.0 -0.0  \n29  -0.0  -19.0 -10000.0 -0.0  \n..   ...    ...      ...  ...  \n669 -0.0   -4.0     -1.0 -1.0  \n670 -0.0 -163.0   -150.0 -1.0  \n671 -0.0  -12.0     -2.0 -1.0  \n672 -0.0  -24.0   -117.0 -1.0  \n674 -0.0  -11.0   -246.0 -1.0  \n675 -0.0  -24.0   -237.0 -1.0  \n676 -0.0  -75.0     -3.0 -1.0  \n677 -0.0   -3.0     -1.0 -1.0  \n678 -0.0  -12.0    -50.0 -1.0  \n679 -0.0  -12.0     -0.0 -1.0  \n680 -0.0   -2.0   -364.0 -1.0  \n681 -0.0  -51.0   -537.0 -1.0  \n682 -0.0  -40.0     -2.0 -1.0  \n683 -0.0  -24.0     -3.0 -1.0  \n684 -1.0  -30.0     -0.0 -1.0  \n685 -0.0  -11.0     -0.0 -1.0  \n686 -0.0  -16.0   -394.0 -1.0  \n687 -0.0  -16.0     -1.0 -1.0  \n688 -0.0   -2.0   -750.0 -1.0  \n689 -0.0  -12.0     -0.0 -1.0  \n680 -0.0   -2.0   -364.0  NaN  \n681 -0.0  -51.0   -537.0  NaN  \n682 -0.0  -40.0     -2.0  NaN  \n683 -0.0  -24.0     -3.0  NaN  \n684 -1.0  -30.0     -0.0  NaN  \n685 -0.0  -11.0     -0.0  NaN  \n686 -0.0  -16.0   -394.0  NaN  \n687 -0.0  -16.0     -1.0  NaN  \n688 -0.0   -2.0   -750.0  NaN  \n689 -0.0  -12.0     -0.0  NaN  \n\n[663 rows x 16 columns]] of <class 'pandas.core.frame.DataFrame'>",
     "output_type": "error",
     "traceback": [
      "\u001b[1;31m---------------------------------------------------------------------------\u001b[0m",
      "\u001b[1;31mTypeError\u001b[0m                                 Traceback (most recent call last)",
      "\u001b[1;32m<ipython-input-142-f9ca76aefdef>\u001b[0m in \u001b[0;36m<module>\u001b[1;34m\u001b[0m\n\u001b[0;32m     10\u001b[0m \u001b[0mi_max\u001b[0m \u001b[1;33m=\u001b[0m \u001b[1;36m10\u001b[0m \u001b[1;31m# Number of iterations\u001b[0m\u001b[1;33m\u001b[0m\u001b[1;33m\u001b[0m\u001b[0m\n\u001b[0;32m     11\u001b[0m \u001b[1;32mwhile\u001b[0m \u001b[0mi\u001b[0m \u001b[1;33m<\u001b[0m \u001b[0mc_size\u001b[0m \u001b[1;32mand\u001b[0m \u001b[0mtrials\u001b[0m \u001b[1;33m<\u001b[0m \u001b[0mi_max\u001b[0m \u001b[1;33m:\u001b[0m\u001b[1;33m\u001b[0m\u001b[1;33m\u001b[0m\u001b[0m\n\u001b[1;32m---> 12\u001b[1;33m     \u001b[0mr\u001b[0m \u001b[1;33m=\u001b[0m \u001b[0mdata\u001b[0m\u001b[1;33m.\u001b[0m\u001b[0mappend\u001b[0m\u001b[1;33m(\u001b[0m\u001b[0mcreate_lable_new_examples\u001b[0m\u001b[1;33m(\u001b[0m\u001b[0mdata\u001b[0m\u001b[1;33m,\u001b[0m\u001b[0mensamble_list\u001b[0m\u001b[1;33m,\u001b[0m\u001b[0mr_size\u001b[0m\u001b[1;33m)\u001b[0m\u001b[1;33m)\u001b[0m\u001b[1;33m\u001b[0m\u001b[1;33m\u001b[0m\u001b[0m\n\u001b[0m\u001b[0;32m     13\u001b[0m     \u001b[0mensamble_list\u001b[0m\u001b[1;33m.\u001b[0m\u001b[0mappend\u001b[0m\u001b[1;33m(\u001b[0m\u001b[0mcreate_classifier\u001b[0m\u001b[1;33m(\u001b[0m\u001b[0mr\u001b[0m\u001b[1;33m)\u001b[0m\u001b[1;33m)\u001b[0m\u001b[1;33m\u001b[0m\u001b[1;33m\u001b[0m\u001b[0m\n\u001b[0;32m     14\u001b[0m     \u001b[0mensemble_error_r\u001b[0m \u001b[1;33m=\u001b[0m \u001b[0mcompute_ensemble_error\u001b[0m\u001b[1;33m(\u001b[0m\u001b[0mdata\u001b[0m\u001b[1;33m,\u001b[0m\u001b[0mensamble_list\u001b[0m\u001b[1;33m[\u001b[0m\u001b[1;33m-\u001b[0m\u001b[1;36m1\u001b[0m\u001b[1;33m]\u001b[0m\u001b[1;33m)\u001b[0m\u001b[1;33m\u001b[0m\u001b[1;33m\u001b[0m\u001b[0m\n",
      "\u001b[1;32m<ipython-input-140-f41e56964d02>\u001b[0m in \u001b[0;36mcreate_lable_new_examples\u001b[1;34m(data, ensamble_list, r_size)\u001b[0m\n\u001b[0;32m      2\u001b[0m \u001b[1;31m# to the majority vote of the ensamle (see idxmin())\u001b[0m\u001b[1;33m\u001b[0m\u001b[1;33m\u001b[0m\u001b[1;33m\u001b[0m\u001b[0m\n\u001b[0;32m      3\u001b[0m \u001b[1;32mdef\u001b[0m \u001b[0mcreate_lable_new_examples\u001b[0m\u001b[1;33m(\u001b[0m\u001b[0mdata\u001b[0m\u001b[1;33m,\u001b[0m\u001b[0mensamble_list\u001b[0m\u001b[1;33m,\u001b[0m\u001b[0mr_size\u001b[0m\u001b[1;33m)\u001b[0m\u001b[1;33m:\u001b[0m\u001b[1;33m\u001b[0m\u001b[1;33m\u001b[0m\u001b[0m\n\u001b[1;32m----> 4\u001b[1;33m     \u001b[0mr_examples\u001b[0m \u001b[1;33m=\u001b[0m \u001b[0mcreate_training_examples\u001b[0m\u001b[1;33m(\u001b[0m\u001b[0mdata\u001b[0m\u001b[1;33m,\u001b[0m\u001b[0mr_size\u001b[0m\u001b[1;33m)\u001b[0m\u001b[1;33m\u001b[0m\u001b[1;33m\u001b[0m\u001b[0m\n\u001b[0m\u001b[0;32m      5\u001b[0m     \u001b[0mpredictions\u001b[0m \u001b[1;33m=\u001b[0m \u001b[0mpd\u001b[0m\u001b[1;33m.\u001b[0m\u001b[0mDataFrame\u001b[0m\u001b[1;33m(\u001b[0m\u001b[1;33m[\u001b[0m\u001b[1;33m[\u001b[0m\u001b[1;36m0\u001b[0m\u001b[1;33m]\u001b[0m\u001b[1;33m*\u001b[0m\u001b[0mr_size\u001b[0m\u001b[1;33m,\u001b[0m\u001b[1;33m[\u001b[0m\u001b[1;36m1\u001b[0m\u001b[1;33m]\u001b[0m\u001b[1;33m*\u001b[0m\u001b[0mr_size\u001b[0m\u001b[1;33m]\u001b[0m\u001b[1;33m)\u001b[0m\u001b[1;33m.\u001b[0m\u001b[0mT\u001b[0m\u001b[1;33m\u001b[0m\u001b[1;33m\u001b[0m\u001b[0m\n\u001b[0;32m      6\u001b[0m     \u001b[1;31m#import pdb; pdb.set_trace()\u001b[0m\u001b[1;33m\u001b[0m\u001b[1;33m\u001b[0m\u001b[1;33m\u001b[0m\u001b[0m\n",
      "\u001b[1;32m<ipython-input-139-cb9b213df915>\u001b[0m in \u001b[0;36mcreate_training_examples\u001b[1;34m(data, r_size)\u001b[0m\n\u001b[0;32m      7\u001b[0m         \u001b[0mdic\u001b[0m\u001b[1;33m[\u001b[0m\u001b[0mcol\u001b[0m\u001b[1;33m]\u001b[0m \u001b[1;33m=\u001b[0m \u001b[0mnp\u001b[0m\u001b[1;33m.\u001b[0m\u001b[0mrandom\u001b[0m\u001b[1;33m.\u001b[0m\u001b[0mnormal\u001b[0m\u001b[1;33m(\u001b[0m\u001b[0mmean\u001b[0m\u001b[1;33m[\u001b[0m\u001b[0mi\u001b[0m\u001b[1;33m]\u001b[0m\u001b[1;33m,\u001b[0m\u001b[0mstd\u001b[0m\u001b[1;33m[\u001b[0m\u001b[0mi\u001b[0m\u001b[1;33m]\u001b[0m\u001b[1;33m,\u001b[0m\u001b[0mr_size\u001b[0m\u001b[1;33m)\u001b[0m\u001b[1;33m\u001b[0m\u001b[1;33m\u001b[0m\u001b[0m\n\u001b[0;32m      8\u001b[0m     \u001b[0mdata\u001b[0m\u001b[1;33m.\u001b[0m\u001b[0mappend\u001b[0m\u001b[1;33m(\u001b[0m\u001b[0mpd\u001b[0m\u001b[1;33m.\u001b[0m\u001b[0mDataFrame\u001b[0m\u001b[1;33m(\u001b[0m\u001b[0mdic\u001b[0m\u001b[1;33m)\u001b[0m\u001b[1;33m,\u001b[0m \u001b[0mignore_index\u001b[0m \u001b[1;33m=\u001b[0m \u001b[1;32mTrue\u001b[0m\u001b[1;33m)\u001b[0m\u001b[1;33m\u001b[0m\u001b[1;33m\u001b[0m\u001b[0m\n\u001b[1;32m----> 9\u001b[1;33m     \u001b[1;32mreturn\u001b[0m \u001b[0mdata\u001b[0m\u001b[1;33m.\u001b[0m\u001b[0miloc\u001b[0m\u001b[1;33m[\u001b[0m\u001b[1;33m-\u001b[0m\u001b[0mr\u001b[0m\u001b[1;33m:\u001b[0m\u001b[1;33m,\u001b[0m\u001b[1;33m:\u001b[0m\u001b[1;33m]\u001b[0m\u001b[1;33m\u001b[0m\u001b[1;33m\u001b[0m\u001b[0m\n\u001b[0m",
      "\u001b[1;32m~\\Anaconda3\\lib\\site-packages\\pandas\\core\\indexing.py\u001b[0m in \u001b[0;36m__getitem__\u001b[1;34m(self, key)\u001b[0m\n\u001b[0;32m   1470\u001b[0m             \u001b[1;32mexcept\u001b[0m \u001b[1;33m(\u001b[0m\u001b[0mKeyError\u001b[0m\u001b[1;33m,\u001b[0m \u001b[0mIndexError\u001b[0m\u001b[1;33m)\u001b[0m\u001b[1;33m:\u001b[0m\u001b[1;33m\u001b[0m\u001b[1;33m\u001b[0m\u001b[0m\n\u001b[0;32m   1471\u001b[0m                 \u001b[1;32mpass\u001b[0m\u001b[1;33m\u001b[0m\u001b[1;33m\u001b[0m\u001b[0m\n\u001b[1;32m-> 1472\u001b[1;33m             \u001b[1;32mreturn\u001b[0m \u001b[0mself\u001b[0m\u001b[1;33m.\u001b[0m\u001b[0m_getitem_tuple\u001b[0m\u001b[1;33m(\u001b[0m\u001b[0mkey\u001b[0m\u001b[1;33m)\u001b[0m\u001b[1;33m\u001b[0m\u001b[1;33m\u001b[0m\u001b[0m\n\u001b[0m\u001b[0;32m   1473\u001b[0m         \u001b[1;32melse\u001b[0m\u001b[1;33m:\u001b[0m\u001b[1;33m\u001b[0m\u001b[1;33m\u001b[0m\u001b[0m\n\u001b[0;32m   1474\u001b[0m             \u001b[1;31m# we by definition only have the 0th axis\u001b[0m\u001b[1;33m\u001b[0m\u001b[1;33m\u001b[0m\u001b[1;33m\u001b[0m\u001b[0m\n",
      "\u001b[1;32m~\\Anaconda3\\lib\\site-packages\\pandas\\core\\indexing.py\u001b[0m in \u001b[0;36m_getitem_tuple\u001b[1;34m(self, tup)\u001b[0m\n\u001b[0;32m   2027\u001b[0m                 \u001b[1;32mcontinue\u001b[0m\u001b[1;33m\u001b[0m\u001b[1;33m\u001b[0m\u001b[0m\n\u001b[0;32m   2028\u001b[0m \u001b[1;33m\u001b[0m\u001b[0m\n\u001b[1;32m-> 2029\u001b[1;33m             \u001b[0mretval\u001b[0m \u001b[1;33m=\u001b[0m \u001b[0mgetattr\u001b[0m\u001b[1;33m(\u001b[0m\u001b[0mretval\u001b[0m\u001b[1;33m,\u001b[0m \u001b[0mself\u001b[0m\u001b[1;33m.\u001b[0m\u001b[0mname\u001b[0m\u001b[1;33m)\u001b[0m\u001b[1;33m.\u001b[0m\u001b[0m_getitem_axis\u001b[0m\u001b[1;33m(\u001b[0m\u001b[0mkey\u001b[0m\u001b[1;33m,\u001b[0m \u001b[0maxis\u001b[0m\u001b[1;33m=\u001b[0m\u001b[0maxis\u001b[0m\u001b[1;33m)\u001b[0m\u001b[1;33m\u001b[0m\u001b[1;33m\u001b[0m\u001b[0m\n\u001b[0m\u001b[0;32m   2030\u001b[0m \u001b[1;33m\u001b[0m\u001b[0m\n\u001b[0;32m   2031\u001b[0m             \u001b[1;31m# if the dim was reduced, then pass a lower-dim the next time\u001b[0m\u001b[1;33m\u001b[0m\u001b[1;33m\u001b[0m\u001b[1;33m\u001b[0m\u001b[0m\n",
      "\u001b[1;32m~\\Anaconda3\\lib\\site-packages\\pandas\\core\\indexing.py\u001b[0m in \u001b[0;36m_getitem_axis\u001b[1;34m(self, key, axis)\u001b[0m\n\u001b[0;32m   2078\u001b[0m \u001b[1;33m\u001b[0m\u001b[0m\n\u001b[0;32m   2079\u001b[0m         \u001b[1;32mif\u001b[0m \u001b[0misinstance\u001b[0m\u001b[1;33m(\u001b[0m\u001b[0mkey\u001b[0m\u001b[1;33m,\u001b[0m \u001b[0mslice\u001b[0m\u001b[1;33m)\u001b[0m\u001b[1;33m:\u001b[0m\u001b[1;33m\u001b[0m\u001b[1;33m\u001b[0m\u001b[0m\n\u001b[1;32m-> 2080\u001b[1;33m             \u001b[1;32mreturn\u001b[0m \u001b[0mself\u001b[0m\u001b[1;33m.\u001b[0m\u001b[0m_get_slice_axis\u001b[0m\u001b[1;33m(\u001b[0m\u001b[0mkey\u001b[0m\u001b[1;33m,\u001b[0m \u001b[0maxis\u001b[0m\u001b[1;33m=\u001b[0m\u001b[0maxis\u001b[0m\u001b[1;33m)\u001b[0m\u001b[1;33m\u001b[0m\u001b[1;33m\u001b[0m\u001b[0m\n\u001b[0m\u001b[0;32m   2081\u001b[0m \u001b[1;33m\u001b[0m\u001b[0m\n\u001b[0;32m   2082\u001b[0m         \u001b[1;32mif\u001b[0m \u001b[0misinstance\u001b[0m\u001b[1;33m(\u001b[0m\u001b[0mkey\u001b[0m\u001b[1;33m,\u001b[0m \u001b[0mlist\u001b[0m\u001b[1;33m)\u001b[0m\u001b[1;33m:\u001b[0m\u001b[1;33m\u001b[0m\u001b[1;33m\u001b[0m\u001b[0m\n",
      "\u001b[1;32m~\\Anaconda3\\lib\\site-packages\\pandas\\core\\indexing.py\u001b[0m in \u001b[0;36m_get_slice_axis\u001b[1;34m(self, slice_obj, axis)\u001b[0m\n\u001b[0;32m   2046\u001b[0m             \u001b[1;32mreturn\u001b[0m \u001b[0mobj\u001b[0m\u001b[1;33m.\u001b[0m\u001b[0mcopy\u001b[0m\u001b[1;33m(\u001b[0m\u001b[0mdeep\u001b[0m\u001b[1;33m=\u001b[0m\u001b[1;32mFalse\u001b[0m\u001b[1;33m)\u001b[0m\u001b[1;33m\u001b[0m\u001b[1;33m\u001b[0m\u001b[0m\n\u001b[0;32m   2047\u001b[0m \u001b[1;33m\u001b[0m\u001b[0m\n\u001b[1;32m-> 2048\u001b[1;33m         \u001b[0mslice_obj\u001b[0m \u001b[1;33m=\u001b[0m \u001b[0mself\u001b[0m\u001b[1;33m.\u001b[0m\u001b[0m_convert_slice_indexer\u001b[0m\u001b[1;33m(\u001b[0m\u001b[0mslice_obj\u001b[0m\u001b[1;33m,\u001b[0m \u001b[0maxis\u001b[0m\u001b[1;33m)\u001b[0m\u001b[1;33m\u001b[0m\u001b[1;33m\u001b[0m\u001b[0m\n\u001b[0m\u001b[0;32m   2049\u001b[0m         \u001b[1;32mif\u001b[0m \u001b[0misinstance\u001b[0m\u001b[1;33m(\u001b[0m\u001b[0mslice_obj\u001b[0m\u001b[1;33m,\u001b[0m \u001b[0mslice\u001b[0m\u001b[1;33m)\u001b[0m\u001b[1;33m:\u001b[0m\u001b[1;33m\u001b[0m\u001b[1;33m\u001b[0m\u001b[0m\n\u001b[0;32m   2050\u001b[0m             \u001b[1;32mreturn\u001b[0m \u001b[0mself\u001b[0m\u001b[1;33m.\u001b[0m\u001b[0m_slice\u001b[0m\u001b[1;33m(\u001b[0m\u001b[0mslice_obj\u001b[0m\u001b[1;33m,\u001b[0m \u001b[0maxis\u001b[0m\u001b[1;33m=\u001b[0m\u001b[0maxis\u001b[0m\u001b[1;33m,\u001b[0m \u001b[0mkind\u001b[0m\u001b[1;33m=\u001b[0m\u001b[1;34m'iloc'\u001b[0m\u001b[1;33m)\u001b[0m\u001b[1;33m\u001b[0m\u001b[1;33m\u001b[0m\u001b[0m\n",
      "\u001b[1;32m~\\Anaconda3\\lib\\site-packages\\pandas\\core\\indexing.py\u001b[0m in \u001b[0;36m_convert_slice_indexer\u001b[1;34m(self, key, axis)\u001b[0m\n\u001b[0;32m    264\u001b[0m         \u001b[1;31m# if we are accessing via lowered dim, use the last dim\u001b[0m\u001b[1;33m\u001b[0m\u001b[1;33m\u001b[0m\u001b[1;33m\u001b[0m\u001b[0m\n\u001b[0;32m    265\u001b[0m         \u001b[0max\u001b[0m \u001b[1;33m=\u001b[0m \u001b[0mself\u001b[0m\u001b[1;33m.\u001b[0m\u001b[0mobj\u001b[0m\u001b[1;33m.\u001b[0m\u001b[0m_get_axis\u001b[0m\u001b[1;33m(\u001b[0m\u001b[0mmin\u001b[0m\u001b[1;33m(\u001b[0m\u001b[0maxis\u001b[0m\u001b[1;33m,\u001b[0m \u001b[0mself\u001b[0m\u001b[1;33m.\u001b[0m\u001b[0mndim\u001b[0m \u001b[1;33m-\u001b[0m \u001b[1;36m1\u001b[0m\u001b[1;33m)\u001b[0m\u001b[1;33m)\u001b[0m\u001b[1;33m\u001b[0m\u001b[1;33m\u001b[0m\u001b[0m\n\u001b[1;32m--> 266\u001b[1;33m         \u001b[1;32mreturn\u001b[0m \u001b[0max\u001b[0m\u001b[1;33m.\u001b[0m\u001b[0m_convert_slice_indexer\u001b[0m\u001b[1;33m(\u001b[0m\u001b[0mkey\u001b[0m\u001b[1;33m,\u001b[0m \u001b[0mkind\u001b[0m\u001b[1;33m=\u001b[0m\u001b[0mself\u001b[0m\u001b[1;33m.\u001b[0m\u001b[0mname\u001b[0m\u001b[1;33m)\u001b[0m\u001b[1;33m\u001b[0m\u001b[1;33m\u001b[0m\u001b[0m\n\u001b[0m\u001b[0;32m    267\u001b[0m \u001b[1;33m\u001b[0m\u001b[0m\n\u001b[0;32m    268\u001b[0m     \u001b[1;32mdef\u001b[0m \u001b[0m_has_valid_setitem_indexer\u001b[0m\u001b[1;33m(\u001b[0m\u001b[0mself\u001b[0m\u001b[1;33m,\u001b[0m \u001b[0mindexer\u001b[0m\u001b[1;33m)\u001b[0m\u001b[1;33m:\u001b[0m\u001b[1;33m\u001b[0m\u001b[1;33m\u001b[0m\u001b[0m\n",
      "\u001b[1;32m~\\Anaconda3\\lib\\site-packages\\pandas\\core\\indexes\\base.py\u001b[0m in \u001b[0;36m_convert_slice_indexer\u001b[1;34m(self, key, kind)\u001b[0m\n\u001b[0;32m   1703\u001b[0m         \u001b[1;31m# validate iloc\u001b[0m\u001b[1;33m\u001b[0m\u001b[1;33m\u001b[0m\u001b[1;33m\u001b[0m\u001b[0m\n\u001b[0;32m   1704\u001b[0m         \u001b[1;32mif\u001b[0m \u001b[0mkind\u001b[0m \u001b[1;33m==\u001b[0m \u001b[1;34m'iloc'\u001b[0m\u001b[1;33m:\u001b[0m\u001b[1;33m\u001b[0m\u001b[1;33m\u001b[0m\u001b[0m\n\u001b[1;32m-> 1705\u001b[1;33m             return slice(self._validate_indexer('slice', key.start, kind),\n\u001b[0m\u001b[0;32m   1706\u001b[0m                          \u001b[0mself\u001b[0m\u001b[1;33m.\u001b[0m\u001b[0m_validate_indexer\u001b[0m\u001b[1;33m(\u001b[0m\u001b[1;34m'slice'\u001b[0m\u001b[1;33m,\u001b[0m \u001b[0mkey\u001b[0m\u001b[1;33m.\u001b[0m\u001b[0mstop\u001b[0m\u001b[1;33m,\u001b[0m \u001b[0mkind\u001b[0m\u001b[1;33m)\u001b[0m\u001b[1;33m,\u001b[0m\u001b[1;33m\u001b[0m\u001b[1;33m\u001b[0m\u001b[0m\n\u001b[0;32m   1707\u001b[0m                          self._validate_indexer('slice', key.step, kind))\n",
      "\u001b[1;32m~\\Anaconda3\\lib\\site-packages\\pandas\\core\\indexes\\base.py\u001b[0m in \u001b[0;36m_validate_indexer\u001b[1;34m(self, form, key, kind)\u001b[0m\n\u001b[0;32m   4143\u001b[0m             \u001b[1;32mpass\u001b[0m\u001b[1;33m\u001b[0m\u001b[1;33m\u001b[0m\u001b[0m\n\u001b[0;32m   4144\u001b[0m         \u001b[1;32melif\u001b[0m \u001b[0mkind\u001b[0m \u001b[1;32min\u001b[0m \u001b[1;33m[\u001b[0m\u001b[1;34m'iloc'\u001b[0m\u001b[1;33m,\u001b[0m \u001b[1;34m'getitem'\u001b[0m\u001b[1;33m]\u001b[0m\u001b[1;33m:\u001b[0m\u001b[1;33m\u001b[0m\u001b[1;33m\u001b[0m\u001b[0m\n\u001b[1;32m-> 4145\u001b[1;33m             \u001b[0mself\u001b[0m\u001b[1;33m.\u001b[0m\u001b[0m_invalid_indexer\u001b[0m\u001b[1;33m(\u001b[0m\u001b[0mform\u001b[0m\u001b[1;33m,\u001b[0m \u001b[0mkey\u001b[0m\u001b[1;33m)\u001b[0m\u001b[1;33m\u001b[0m\u001b[1;33m\u001b[0m\u001b[0m\n\u001b[0m\u001b[0;32m   4146\u001b[0m         \u001b[1;32mreturn\u001b[0m \u001b[0mkey\u001b[0m\u001b[1;33m\u001b[0m\u001b[1;33m\u001b[0m\u001b[0m\n\u001b[0;32m   4147\u001b[0m \u001b[1;33m\u001b[0m\u001b[0m\n",
      "\u001b[1;32m~\\Anaconda3\\lib\\site-packages\\pandas\\core\\indexes\\base.py\u001b[0m in \u001b[0;36m_invalid_indexer\u001b[1;34m(self, form, key)\u001b[0m\n\u001b[0;32m   1861\u001b[0m                         \"indexers [{key}] of {kind}\".format(\n\u001b[0;32m   1862\u001b[0m                             \u001b[0mform\u001b[0m\u001b[1;33m=\u001b[0m\u001b[0mform\u001b[0m\u001b[1;33m,\u001b[0m \u001b[0mklass\u001b[0m\u001b[1;33m=\u001b[0m\u001b[0mtype\u001b[0m\u001b[1;33m(\u001b[0m\u001b[0mself\u001b[0m\u001b[1;33m)\u001b[0m\u001b[1;33m,\u001b[0m \u001b[0mkey\u001b[0m\u001b[1;33m=\u001b[0m\u001b[0mkey\u001b[0m\u001b[1;33m,\u001b[0m\u001b[1;33m\u001b[0m\u001b[1;33m\u001b[0m\u001b[0m\n\u001b[1;32m-> 1863\u001b[1;33m                             kind=type(key)))\n\u001b[0m\u001b[0;32m   1864\u001b[0m \u001b[1;33m\u001b[0m\u001b[0m\n\u001b[0;32m   1865\u001b[0m     \u001b[1;32mdef\u001b[0m \u001b[0mget_duplicates\u001b[0m\u001b[1;33m(\u001b[0m\u001b[0mself\u001b[0m\u001b[1;33m)\u001b[0m\u001b[1;33m:\u001b[0m\u001b[1;33m\u001b[0m\u001b[1;33m\u001b[0m\u001b[0m\n",
      "\u001b[1;31mTypeError\u001b[0m: cannot do slice indexing on <class 'pandas.core.indexes.numeric.Int64Index'> with these indexers [      A1     A2      A3   A4   A5    A6   A7      A8   A9  A10   A11  A12  \\\n0   -0.0   -0.0  -0.000 -0.0 -0.0  -0.0 -0.0  -1.250 -0.0 -0.0  -1.0 -0.0   \n1   -1.0   -1.0  -4.460 -0.0 -0.0  -1.0 -1.0  -3.040 -0.0 -0.0  -6.0 -0.0   \n2   -1.0   -2.0  -0.500 -0.0 -0.0  -1.0 -1.0  -1.500 -0.0 -1.0  -0.0 -0.0   \n3   -0.0   -3.0  -1.540 -0.0 -0.0  -0.0 -0.0  -3.750 -0.0 -0.0  -5.0 -1.0   \n4   -0.0   -4.0  -5.625 -0.0 -0.0  -0.0 -0.0  -1.710 -0.0 -1.0  -0.0 -0.0   \n5   -0.0   -5.0  -4.000 -0.0 -0.0  -2.0 -0.0  -2.500 -0.0 -1.0  -0.0 -1.0   \n6   -0.0   -6.0  -1.040 -0.0 -0.0  -3.0 -1.0  -6.500 -0.0 -1.0  -0.0 -1.0   \n7   -1.0   -7.0 -11.585 -0.0 -0.0  -4.0 -0.0  -0.040 -0.0 -1.0  -0.0 -0.0   \n8   -0.0   -8.0  -0.500 -1.0 -1.0  -5.0 -1.0  -3.960 -0.0 -1.0  -0.0 -0.0   \n9   -0.0   -9.0  -4.915 -1.0 -1.0  -0.0 -0.0  -3.165 -0.0 -1.0  -0.0 -1.0   \n10  -0.0  -10.0  -0.830 -0.0 -0.0  -6.0 -1.0  -2.165 -1.0 -1.0  -0.0 -1.0   \n11  -0.0  -11.0  -1.835 -0.0 -0.0  -6.0 -1.0  -4.335 -0.0 -1.0  -0.0 -0.0   \n12  -1.0  -12.0  -6.000 -0.0 -0.0  -5.0 -0.0  -1.000 -0.0 -1.0  -0.0 -1.0   \n13  -0.0  -13.0  -6.040 -0.0 -0.0  -5.0 -0.0  -0.040 -1.0 -1.0  -0.0 -0.0   \n14  -1.0  -14.0 -10.500 -0.0 -0.0  -1.0 -0.0  -5.000 -0.0 -0.0  -7.0 -1.0   \n15  -0.0  -15.0  -4.415 -1.0 -1.0  -5.0 -0.0  -0.250 -0.0 -0.0 -10.0 -1.0   \n16  -0.0  -16.0  -0.875 -0.0 -0.0  -2.0 -0.0  -0.960 -0.0 -0.0  -3.0 -1.0   \n17  -1.0  -17.0  -5.875 -0.0 -0.0  -1.0 -0.0  -3.170 -0.0 -0.0 -10.0 -0.0   \n18  -0.0  -18.0  -0.250 -0.0 -0.0  -7.0 -1.0  -0.665 -0.0 -1.0  -0.0 -1.0   \n19  -1.0  -19.0  -8.585 -0.0 -0.0  -4.0 -1.0  -0.750 -0.0 -0.0  -7.0 -0.0   \n20  -0.0  -20.0 -11.250 -0.0 -0.0  -6.0 -0.0  -2.500 -0.0 -0.0 -17.0 -0.0   \n21  -0.0  -17.0  -1.000 -0.0 -0.0  -6.0 -0.0  -0.835 -0.0 -1.0  -0.0 -0.0   \n22  -1.0  -21.0  -8.000 -0.0 -0.0  -6.0 -0.0  -7.875 -0.0 -0.0  -6.0 -1.0   \n23  -1.0  -22.0 -14.500 -0.0 -0.0  -8.0 -1.0  -3.085 -0.0 -0.0  -1.0 -0.0   \n24  -1.0  -23.0  -6.500 -0.0 -0.0  -1.0 -0.0  -0.500 -0.0 -0.0  -3.0 -1.0   \n25  -1.0  -24.0  -0.585 -0.0 -0.0  -6.0 -1.0  -1.500 -0.0 -0.0  -2.0 -0.0   \n26  -1.0  -25.0 -13.000 -0.0 -0.0  -9.0 -2.0  -5.165 -0.0 -0.0  -9.0 -1.0   \n27  -0.0  -26.0 -18.500 -0.0 -0.0  -7.0 -2.0 -15.000 -0.0 -0.0 -17.0 -1.0   \n28  -0.0  -27.0  -8.500 -0.0 -0.0 -10.0 -1.0  -7.000 -0.0 -0.0  -3.0 -0.0   \n29  -0.0  -28.0  -1.040 -0.0 -0.0  -0.0 -0.0  -5.000 -0.0 -0.0  -6.0 -1.0   \n..   ...    ...     ...  ...  ...   ...  ...     ...  ...  ...   ...  ...   \n669 -0.0 -259.0  -2.040 -1.0 -1.0 -12.0 -3.0  -1.500 -1.0 -1.0  -0.0 -0.0   \n670 -0.0 -336.0  -5.835 -0.0 -0.0  -0.0 -0.0  -5.500 -1.0 -1.0  -0.0 -0.0   \n671 -0.0 -337.0 -12.835 -0.0 -0.0  -4.0 -0.0  -0.500 -1.0 -1.0  -0.0 -0.0   \n672 -1.0 -338.0  -0.835 -0.0 -0.0 -11.0 -0.0  -0.500 -1.0 -1.0  -0.0 -1.0   \n674 -1.0 -128.0  -2.500 -0.0 -0.0  -9.0 -1.0  -0.210 -1.0 -1.0  -0.0 -0.0   \n675 -1.0 -296.0  -1.040 -0.0 -0.0 -11.0 -0.0  -0.665 -1.0 -1.0  -0.0 -0.0   \n676 -1.0 -264.0 -10.665 -0.0 -0.0  -1.0 -1.0  -0.085 -1.0 -0.0 -12.0 -1.0   \n677 -0.0  -65.0  -7.250 -0.0 -0.0  -2.0 -0.0  -0.040 -1.0 -0.0  -1.0 -0.0   \n678 -1.0 -334.0 -10.210 -0.0 -0.0 -12.0 -3.0  -0.000 -1.0 -1.0  -0.0 -0.0   \n679 -1.0 -322.0  -1.250 -0.0 -0.0  -6.0 -0.0  -0.000 -1.0 -1.0  -0.0 -0.0   \n680 -0.0 -232.0  -0.290 -0.0 -0.0  -5.0 -0.0  -0.290 -1.0 -1.0  -0.0 -0.0   \n681 -0.0   -3.0  -1.000 -1.0 -1.0  -7.0 -1.0  -3.000 -1.0 -1.0  -0.0 -0.0   \n682 -0.0 -192.0  -3.290 -0.0 -0.0  -9.0 -0.0  -0.335 -1.0 -1.0  -0.0 -1.0   \n683 -0.0 -339.0  -0.750 -1.0 -1.0  -7.0 -0.0  -0.585 -1.0 -1.0  -0.0 -0.0   \n684 -0.0 -151.0  -3.290 -0.0 -0.0  -2.0 -0.0  -3.500 -1.0 -1.0  -0.0 -1.0   \n685 -0.0 -274.0 -10.085 -1.0 -1.0 -10.0 -1.0  -1.250 -1.0 -1.0  -0.0 -0.0   \n686 -1.0 -142.0  -0.750 -0.0 -0.0  -6.0 -0.0  -2.000 -1.0 -0.0  -2.0 -1.0   \n687 -1.0 -221.0 -13.500 -1.0 -1.0 -12.0 -3.0  -2.000 -1.0 -0.0  -1.0 -1.0   \n688 -0.0 -334.0  -0.205 -0.0 -0.0 -11.0 -0.0  -0.040 -1.0 -1.0  -0.0 -0.0   \n689 -0.0 -256.0  -3.375 -0.0 -0.0  -6.0 -1.0  -8.290 -1.0 -1.0  -0.0 -1.0   \n680 -0.0 -232.0  -0.290 -0.0 -0.0  -5.0 -0.0  -0.290 -1.0 -1.0  -0.0 -0.0   \n681 -0.0   -3.0  -1.000 -1.0 -1.0  -7.0 -1.0  -3.000 -1.0 -1.0  -0.0 -0.0   \n682 -0.0 -192.0  -3.290 -0.0 -0.0  -9.0 -0.0  -0.335 -1.0 -1.0  -0.0 -1.0   \n683 -0.0 -339.0  -0.750 -1.0 -1.0  -7.0 -0.0  -0.585 -1.0 -1.0  -0.0 -0.0   \n684 -0.0 -151.0  -3.290 -0.0 -0.0  -2.0 -0.0  -3.500 -1.0 -1.0  -0.0 -1.0   \n685 -0.0 -274.0 -10.085 -1.0 -1.0 -10.0 -1.0  -1.250 -1.0 -1.0  -0.0 -0.0   \n686 -1.0 -142.0  -0.750 -0.0 -0.0  -6.0 -0.0  -2.000 -1.0 -0.0  -2.0 -1.0   \n687 -1.0 -221.0 -13.500 -1.0 -1.0 -12.0 -3.0  -2.000 -1.0 -0.0  -1.0 -1.0   \n688 -0.0 -334.0  -0.205 -0.0 -0.0 -11.0 -0.0  -0.040 -1.0 -1.0  -0.0 -0.0   \n689 -0.0 -256.0  -3.375 -0.0 -0.0  -6.0 -1.0  -8.290 -1.0 -1.0  -0.0 -1.0   \n\n     A13    A14      A15  A16  \n0   -0.0   -0.0     -0.0 -0.0  \n1   -0.0   -1.0   -560.0 -0.0  \n2   -0.0   -2.0   -824.0 -0.0  \n3   -0.0   -3.0     -3.0 -0.0  \n4   -1.0   -4.0     -0.0 -0.0  \n5   -0.0   -5.0     -0.0 -0.0  \n6   -0.0   -6.0 -31285.0 -0.0  \n7   -0.0   -7.0  -1349.0 -0.0  \n8   -0.0   -8.0   -314.0 -0.0  \n9   -0.0   -9.0  -1442.0 -0.0  \n10  -0.0  -10.0     -0.0 -0.0  \n11  -0.0  -11.0   -200.0 -0.0  \n12  -0.0  -12.0     -0.0 -0.0  \n13  -0.0  -12.0  -2690.0 -0.0  \n14  -0.0  -12.0     -0.0 -0.0  \n15  -0.0  -13.0     -0.0 -0.0  \n16  -0.0  -14.0     -0.0 -0.0  \n17  -0.0   -4.0   -245.0 -0.0  \n18  -0.0  -12.0     -0.0 -0.0  \n19  -0.0  -15.0     -0.0 -0.0  \n20  -0.0  -16.0  -1208.0 -0.0  \n21  -1.0  -17.0     -0.0 -0.0  \n22  -0.0  -12.0  -1260.0 -0.0  \n23  -0.0   -4.0    -11.0 -0.0  \n24  -0.0  -18.0     -0.0 -0.0  \n25  -0.0   -3.0     -0.0 -0.0  \n26  -0.0  -12.0     -0.0 -0.0  \n27  -0.0  -12.0     -0.0 -0.0  \n28  -0.0  -12.0     -0.0 -0.0  \n29  -0.0  -19.0 -10000.0 -0.0  \n..   ...    ...      ...  ...  \n669 -0.0   -4.0     -1.0 -1.0  \n670 -0.0 -163.0   -150.0 -1.0  \n671 -0.0  -12.0     -2.0 -1.0  \n672 -0.0  -24.0   -117.0 -1.0  \n674 -0.0  -11.0   -246.0 -1.0  \n675 -0.0  -24.0   -237.0 -1.0  \n676 -0.0  -75.0     -3.0 -1.0  \n677 -0.0   -3.0     -1.0 -1.0  \n678 -0.0  -12.0    -50.0 -1.0  \n679 -0.0  -12.0     -0.0 -1.0  \n680 -0.0   -2.0   -364.0 -1.0  \n681 -0.0  -51.0   -537.0 -1.0  \n682 -0.0  -40.0     -2.0 -1.0  \n683 -0.0  -24.0     -3.0 -1.0  \n684 -1.0  -30.0     -0.0 -1.0  \n685 -0.0  -11.0     -0.0 -1.0  \n686 -0.0  -16.0   -394.0 -1.0  \n687 -0.0  -16.0     -1.0 -1.0  \n688 -0.0   -2.0   -750.0 -1.0  \n689 -0.0  -12.0     -0.0 -1.0  \n680 -0.0   -2.0   -364.0  NaN  \n681 -0.0  -51.0   -537.0  NaN  \n682 -0.0  -40.0     -2.0  NaN  \n683 -0.0  -24.0     -3.0  NaN  \n684 -1.0  -30.0     -0.0  NaN  \n685 -0.0  -11.0     -0.0  NaN  \n686 -0.0  -16.0   -394.0  NaN  \n687 -0.0  -16.0     -1.0  NaN  \n688 -0.0   -2.0   -750.0  NaN  \n689 -0.0  -12.0     -0.0  NaN  \n\n[663 rows x 16 columns]] of <class 'pandas.core.frame.DataFrame'>"
     ]
    }
   ],
   "source": [
    "# Main\n",
    "i = 1\n",
    "trials = 1\n",
    "data = extract_features()\n",
    "ensamble_list = []\n",
    "ensamble_list.append(create_classifier(data))\n",
    "ensemble_error = compute_ensemble_error(data,ensamble_list) # Firts enbamble error\n",
    "r_size = 10 # Number of instances of training data to generate\n",
    "c_size = 5 # Number of classifiers in the ensamble\n",
    "i_max = 10 # Number of iterations\n",
    "while i < c_size and trials < i_max :\n",
    "    r = data.append(create_lable_new_examples(data,ensamble_list,r_size))\n",
    "    ensamble_list.append(create_classifier(r))\n",
    "    ensemble_error_r = compute_ensemble_error(data,ensamble_list[-1])\n",
    "    if ensemble_error_r < ensemble_error:\n",
    "        i = i + 1\n",
    "        ensemble_error = ensemble_error_r \n",
    "    else:\n",
    "        del ensemble_error[-1]\n",
    "    trials = trials + 1\n"
   ]
  },
  {
   "cell_type": "code",
   "execution_count": 136,
   "metadata": {},
   "outputs": [],
   "source": [
    "# Generates dataframe from csv file. factorizes all object attributes ad leaves numeric attributes\n",
    "def extract_features():\n",
    "    file_names=['Credit Approval'] # will need to be removed\n",
    "    for i in file_names:\n",
    "        file_directory = 'Datasets/'+i+'.csv'\n",
    "        data = pd.read_csv(file_directory)\n",
    "        data = data.replace(['?',' '], np.nan) # replace all empty values to np.nan\n",
    "        data = data.dropna(axis=0,how='any') # remove all rows with any np.nan\n",
    "    for i in data.columns:\n",
    "        if data[i].dtype == object:\n",
    "            data[i] = pd.factorize(data[i])[0]\n",
    "    return data"
   ]
  },
  {
   "cell_type": "code",
   "execution_count": 137,
   "metadata": {},
   "outputs": [],
   "source": [
    "# Recieves dataframe and outputs the model - In this case, decision tree\n",
    "def create_classifier(data):\n",
    "    x = data.iloc[:, :-1]\n",
    "    y = data.iloc[:, -1:]\n",
    "    x_train, x_test, y_train, y_test = train_test_split(x,y,test_size=0.33,random_state=101)\n",
    "    dtree = DecisionTreeClassifier()\n",
    "    dtree.fit(x_train,y_train)\n",
    "    predictions = dtree.predict(x_test)\n",
    "    #import pdb; pdb.set_trace()\n",
    "    return (dtree)"
   ]
  },
  {
   "cell_type": "code",
   "execution_count": 138,
   "metadata": {},
   "outputs": [],
   "source": [
    "# Recieves data set and list of models. returns the confusion matrix of the majority vote of the ensamble\n",
    "def compute_ensemble_error(data,ensamble_list):\n",
    "    x = data.iloc[:, :-1]\n",
    "    y = data.iloc[:, -1:]\n",
    "    x_train, x_test, y_train, y_test = train_test_split(x,y,test_size=0.33,random_state=101)\n",
    "    #import pdb; pdb.set_trace()\n",
    "    comulative_error = 0 \n",
    "    predictions_list = []\n",
    "    for dtree in ensamble_list: # generate list if all classifiers classifications\n",
    "        predictions_list.append(dtree.predict(x_test))\n",
    "    c_star =pd.DataFrame(pd.DataFrame(predictions_list).T.apply(lambda x: x.value_counts(), axis = 1).idxmax(axis=1))\n",
    "    #import pdb; pdb.set_trace()\n",
    "    ensamble_error = confusion_matrix(y_test,c_star)\n",
    "    return (ensamble_error)"
   ]
  },
  {
   "cell_type": "code",
   "execution_count": 139,
   "metadata": {},
   "outputs": [],
   "source": [
    "# Recieves data frame (DF) and r_size, returns r_size DF of randomly generated values with the structure of the DF\n",
    "def create_training_examples(data,r_size):\n",
    "    mean = data.mean()\n",
    "    std = data.std()\n",
    "    dic = dict()\n",
    "    for i,col in enumerate(data.columns):\n",
    "        dic[col] = np.random.normal(mean[i],std[i],r_size)\n",
    "    data.append(pd.DataFrame(dic), ignore_index = True)\n",
    "    return data.iloc[-r:,:]"
   ]
  },
  {
   "cell_type": "code",
   "execution_count": 140,
   "metadata": {},
   "outputs": [],
   "source": [
    "# Recieves dataframe (DF), list of models (ensable) and r_size. Returns DF with r_size new exmples with lables that are opposite\n",
    "# to the majority vote of the ensamle (see idxmin())\n",
    "def create_lable_new_examples(data,ensamble_list,r_size):\n",
    "    r_examples = create_training_examples(data,r_size)\n",
    "    predictions = pd.DataFrame([[0]*r_size,[1]*r_size]).T\n",
    "    #import pdb; pdb.set_trace()\n",
    "    for i,model in enumerate(ensamble_list):\n",
    "        predictions.append(pd.DataFrame(ensamble_list[i].predict(r_examples.iloc[:,:-1])),ignore_index = True)\n",
    "    predictions = predictions.apply(lambda x: x.value_counts(), axis = 1).idxmin(axis=1)\n",
    "    r_examples.iloc[:,-1:] = predictions\n",
    "    return (r_examples)"
   ]
  }
 ],
 "metadata": {
  "kernelspec": {
   "display_name": "Python 3",
   "language": "python",
   "name": "python3"
  },
  "language_info": {
   "codemirror_mode": {
    "name": "ipython",
    "version": 3
   },
   "file_extension": ".py",
   "mimetype": "text/x-python",
   "name": "python",
   "nbconvert_exporter": "python",
   "pygments_lexer": "ipython3",
   "version": "3.7.1"
  }
 },
 "nbformat": 4,
 "nbformat_minor": 2
}
